{
  "nbformat": 4,
  "nbformat_minor": 0,
  "metadata": {
    "colab": {
      "name": "VaR-CVaR.ipynb",
      "provenance": [],
      "authorship_tag": "ABX9TyMGtslp8HvNjUj9W0aqPkxe",
      "include_colab_link": true
    },
    "kernelspec": {
      "name": "python3",
      "display_name": "Python 3"
    }
  },
  "cells": [
    {
      "cell_type": "markdown",
      "metadata": {
        "id": "view-in-github",
        "colab_type": "text"
      },
      "source": [
        "<a href=\"https://colab.research.google.com/github/efazel/VaR-CVaR/blob/master/VaR_CVaR.ipynb\" target=\"_parent\"><img src=\"https://colab.research.google.com/assets/colab-badge.svg\" alt=\"Open In Colab\"/></a>"
      ]
    },
    {
      "cell_type": "markdown",
      "metadata": {
        "id": "NgSEEpOgdkFS",
        "colab_type": "text"
      },
      "source": [
        "# Value-at-Risk and Expected Shortfall\n",
        "by Ehsan Fazel"
      ]
    },
    {
      "cell_type": "markdown",
      "metadata": {
        "id": "9k12rwOZdxIa",
        "colab_type": "text"
      },
      "source": [
        "For a given portfolio, time horizon, and probability, value-at-risk (hereafter VaR) calculates the potential loss given normal market conditions. In a similar vein as VaR, the expected shortfall is the average of all possible losses that are more extreme than VaR. Expected shortfall is also called conditional VaR or CVaR. \n",
        "\n",
        "To measure VaR, we use one-sided confidence intervals since we are interested in extreme negative events that take place in the left tail of the distribution. \n",
        "\n",
        "Let $R$, $\\alpha$, and $h$ be a random variable, a quantile of the distribution function of $R$, and a time horizon, respectively. We have the following:\n",
        "\n",
        "$$ VaR_{h}(\\alpha) = - r \\tag{1}$$\n",
        "\n",
        "where\n",
        "\n",
        "$$r \\in \\mathbb{R}: P(R \\leq r) = \\alpha \\tag{2}$$ \n",
        "\n",
        "The above expression simply states that the VaR is the $\\alpha$ quantile of the distribution of returns. To define expected shortfall:\n",
        "\n",
        "$$ES_{h}(\\alpha) = E[R|R \\leq VaR_{h}(\\alpha)] \\tag{3}$$\n",
        "\n",
        "Let us demonstrate the definitions in a graph. We need to download a return series and plot the probability distribution in a histogram."
      ]
    },
    {
      "cell_type": "code",
      "metadata": {
        "id": "62WS4KNrop9X",
        "colab_type": "code",
        "colab": {}
      },
      "source": [
        "# For Jupyter notebooks to align the graphs in the middle (you can skip this!)\n",
        "from IPython.core.display import HTML\n",
        "HTML(\"\"\"\n",
        "<style>\n",
        ".output_png {\n",
        "    display: table-cell;\n",
        "    text-align: center;\n",
        "    vertical-align: middle;\n",
        "}\n",
        "</style>\n",
        "\"\"\")"
      ],
      "execution_count": null,
      "outputs": []
    },
    {
      "cell_type": "code",
      "metadata": {
        "id": "vtkRCHl89G8i",
        "colab_type": "code",
        "colab": {}
      },
      "source": [
        "# Import libraries:\n",
        "import numpy as np\n",
        "import matplotlib.pyplot as plt\n",
        "import pandas as pd\n",
        "import pandas_datareader.data as pdr\n",
        "import datetime as dt\n",
        "import fix_yahoo_finance as yf\n",
        "yf.pdr_override()"
      ],
      "execution_count": null,
      "outputs": []
    },
    {
      "cell_type": "code",
      "metadata": {
        "id": "mrgmBsqrkes6",
        "colab_type": "code",
        "colab": {
          "base_uri": "https://localhost:8080/",
          "height": 346
        },
        "outputId": "9547c5aa-9673-4ef9-9977-7745c560482c"
      },
      "source": [
        "# Download the daily price series of Apple from Yahoo Finance:\n",
        "start_date = dt.datetime(1980,1,1)\n",
        "end_date = dt.datetime(2020,1,1)\n",
        "apple_inc = pdr.get_data_yahoo('AAPL', start_date, end_date)\n",
        "\n",
        "# Compute returns:\n",
        "apple_inc['Log_Return_aapl'] = np.log(apple_inc['Adj Close']) - np.log(apple_inc['Adj Close'].shift(1))\n",
        "\n",
        "# Plot returns:\n",
        "apple_inc['Log_Return_aapl'].plot.hist(bins=500, alpha=1, histtype='stepfilled', color='steelblue', edgecolor='none');\n",
        "\n",
        "# Alpha:\n",
        "alpha = 0.05\n",
        "\n",
        "# Compute VaR and expected shortfall and round it to 6 decimals:\n",
        "VaR_aapl = np.round(apple_inc['Log_Return_aapl'].quantile(alpha),6);\n",
        "ES_aapl = np.round(apple_inc.loc[apple_inc['Log_Return_aapl'] < apple_inc['Log_Return_aapl'].quantile(alpha), 'Log_Return_aapl'].mean(), 6)\n",
        "\n",
        "# Mark VaR:\n",
        "plt.axvline(x = VaR_aapl, linestyle='--', linewidth=1, label=\"VaR\", c='red');\n",
        "plt.xlabel('Apple Return')\n",
        "plt.ylabel('Probability')\n",
        "plt.title('Probability distribution of Apple returns')\n",
        "\n",
        "print('1-day VaR at 95% confidence level: ' + str(VaR_aapl))\n",
        "print('1-day expected shortfall at 95% confidence level: ' + str(ES_aapl))"
      ],
      "execution_count": null,
      "outputs": [
        {
          "output_type": "stream",
          "text": [
            "[*********************100%***********************]  1 of 1 downloaded\n",
            "1-day VaR at 95% confidence level: -0.04249\n",
            "1-day expected shortfall at 95% confidence level: -0.065235\n"
          ],
          "name": "stdout"
        },
        {
          "output_type": "display_data",
          "data": {
            "image/png": "[encoded data removed]",
            "text/plain": [
              "<Figure size 432x288 with 1 Axes>"
            ]
          },
          "metadata": {
            "tags": [],
            "needs_background": "light"
          }
        }
      ]
    },
    {
      "cell_type": "markdown",
      "metadata": {
        "id": "di-7buGtB5sG",
        "colab_type": "text"
      },
      "source": [
        "The red dashed line corresponds to VaR and the mean of the return valus to the left of the dashed line is the expected shortfall. Moving forward with a stock market index, we consider S&P 500 as a proxy of all the stocks available in the equity market. \n",
        "\n",
        "There are many approaches to obtain VaR and expected shortfall in the literature. In this document we consider the following:\n",
        "\n",
        "\n",
        "\n",
        "\n",
        "*   Using the hitorical data\n",
        "*   Simulating normal returns from estimated moments of the data\n",
        "*   Drawing IID simulation from empirical distribution of the data\n",
        "*   Performing simulation from the estimated student-t distribution by MLE\n",
        "\n",
        "\n",
        "\n"
      ]
    },
    {
      "cell_type": "markdown",
      "metadata": {
        "id": "uSslUhSHI5HV",
        "colab_type": "text"
      },
      "source": [
        "## Hitorical Data"
      ]
    },
    {
      "cell_type": "code",
      "metadata": {
        "id": "TH3lccCkPd-G",
        "colab_type": "code",
        "colab": {
          "base_uri": "https://localhost:8080/",
          "height": 34
        },
        "outputId": "906512c8-0214-4d0d-92f5-e87bea859fe7"
      },
      "source": [
        "# Download the data from Yahoo Finance:\n",
        "start_date = dt.datetime(1980, 1, 1)\n",
        "end_date = dt.datetime(2018, 1, 1)\n",
        "sp = pdr.get_data_yahoo('^GSPC', start_date, end_date)"
      ],
      "execution_count": null,
      "outputs": [
        {
          "output_type": "stream",
          "text": [
            "[*********************100%***********************]  1 of 1 downloaded\n"
          ],
          "name": "stdout"
        }
      ]
    },
    {
      "cell_type": "code",
      "metadata": {
        "id": "ywHOy3zRR115",
        "colab_type": "code",
        "colab": {
          "base_uri": "https://localhost:8080/",
          "height": 255
        },
        "outputId": "126363c5-bc26-461a-f491-4521b79158fa"
      },
      "source": [
        "# Calculate the log-return and examine the data:\n",
        "sp['Log_Return'] = np.log(sp['Adj Close']) - np.log(sp['Adj Close'].shift(1))\n",
        "sp.info()"
      ],
      "execution_count": null,
      "outputs": [
        {
          "output_type": "stream",
          "text": [
            "<class 'pandas.core.frame.DataFrame'>\n",
            "DatetimeIndex: 9584 entries, 1980-01-02 to 2017-12-29\n",
            "Data columns (total 7 columns):\n",
            " #   Column      Non-Null Count  Dtype  \n",
            "---  ------      --------------  -----  \n",
            " 0   Open        9584 non-null   float64\n",
            " 1   High        9584 non-null   float64\n",
            " 2   Low         9584 non-null   float64\n",
            " 3   Close       9584 non-null   float64\n",
            " 4   Adj Close   9584 non-null   float64\n",
            " 5   Volume      9584 non-null   int64  \n",
            " 6   Log_Return  9583 non-null   float64\n",
            "dtypes: float64(6), int64(1)\n",
            "memory usage: 599.0 KB\n"
          ],
          "name": "stdout"
        }
      ]
    },
    {
      "cell_type": "code",
      "metadata": {
        "id": "I0e07UuUYut1",
        "colab_type": "code",
        "colab": {
          "base_uri": "https://localhost:8080/",
          "height": 34
        },
        "outputId": "0c8837c3-a335-42d5-9234-06ff823b6912"
      },
      "source": [
        "# Calculate mean and standard deviation of the data\n",
        "mu = np.round(np.mean(sp['Log_Return']), 6)\n",
        "sig = np.round(np.std(sp['Log_Return']), 6)\n",
        "print('The return is normally distributed with mean ' + str(mu) + ' ' + 'and the standard deviation of ' + str(sig))"
      ],
      "execution_count": null,
      "outputs": [
        {
          "output_type": "stream",
          "text": [
            "The return is normally distributed with mean 0.000337 and the standard deviation of 0.011058\n"
          ],
          "name": "stdout"
        }
      ]
    },
    {
      "cell_type": "code",
      "metadata": {
        "id": "tTOJ8QDwZPK1",
        "colab_type": "code",
        "colab": {
          "base_uri": "https://localhost:8080/",
          "height": 329
        },
        "outputId": "8dbfe04f-f6d7-4f19-f268-56c059ef776d"
      },
      "source": [
        "# Plot:\n",
        "sp['Log_Return'].plot.hist(bins = 500, histtype='stepfilled', color='steelblue', edgecolor='none');\n",
        "plt.title('Probability distribution of S&P 500 returns')\n",
        "\n",
        "# VaR and ES:\n",
        "VaR = np.round(sp['Log_Return'].quantile(0.05),6)\n",
        "ES = np.round(sp.loc[sp['Log_Return'] < sp['Log_Return'].quantile(0.05), 'Log_Return'].mean(), 6)\n",
        "\n",
        "# Mark VaR\n",
        "plt.axvline(x = VaR, linestyle='--', linewidth=1, label=\"VaR\", c='red');\n",
        "plt.xlabel('S&P 500 Returns')\n",
        "plt.ylabel('Probability')\n",
        "plt.title('Probability distribution of S&P 500 returns')\n",
        "\n",
        "print('1-day VaR at the 95% confidence level: ' + str(VaR))\n",
        "print('1-day Expected Shortfall at the 95% confidence level: ' + str(ES))"
      ],
      "execution_count": null,
      "outputs": [
        {
          "output_type": "stream",
          "text": [
            "The 1-day VaR at the 95% confidnce level is: -0.016335\n",
            "The 1-day Expected Shortfall/Conditional VaR at the 95% confidnce level is: -0.025921\n"
          ],
          "name": "stdout"
        },
        {
          "output_type": "display_data",
          "data": {
            "image/png": "[encoded data removed]",
            "text/plain": [
              "<Figure size 432x288 with 1 Axes>"
            ]
          },
          "metadata": {
            "tags": [],
            "needs_background": "light"
          }
        }
      ]
    },
    {
      "cell_type": "markdown",
      "metadata": {
        "id": "FweO4OePJZzd",
        "colab_type": "text"
      },
      "source": [
        "## Simulate Normal Returns"
      ]
    },
    {
      "cell_type": "code",
      "metadata": {
        "id": "PSwWtFgSbala",
        "colab_type": "code",
        "colab": {
          "base_uri": "https://localhost:8080/",
          "height": 329
        },
        "outputId": "15732325-8de3-4096-f310-290589862dd9"
      },
      "source": [
        "# Simulate normal distribution with the same mean and variance as the data:\n",
        "np.random.seed(0)\n",
        "sim = np.random.normal(mu, sig, 10000)\n",
        "\n",
        "# Plot:\n",
        "plt.hist(sim, bins=500, alpha=1, histtype='stepfilled', color='steelblue', edgecolor='none');\n",
        "\n",
        "# VaR and ES:\n",
        "VaR = np.round(np.percentile(sim, 5), 6)\n",
        "ES = np.round(np.mean(sim[sim < np.percentile(sim, 5)]),6)\n",
        "\n",
        "# Mark VaR\n",
        "plt.axvline(x = VaR, linestyle='--', linewidth=1, label=\"VaR\", c='red');\n",
        "plt.xlabel('S&P 500 Returns')\n",
        "plt.ylabel('Probability')\n",
        "plt.title('Probability distribution of S&P 500 returns')\n",
        "\n",
        "print('1-day VaR at 95% confidence level: ' + str(VaR))\n",
        "print('1-day Expected Shortfall at 95% confidence level: ' + str(ES))"
      ],
      "execution_count": null,
      "outputs": [
        {
          "output_type": "stream",
          "text": [
            "The 1-day Expected VaR at the 95% confidnce level is: -0.017714\n",
            "The 1-day Expected Shortfall/Conditional VaR at the 95% confidnce level is: -0.022137\n"
          ],
          "name": "stdout"
        },
        {
          "output_type": "display_data",
          "data": {
            "image/png": "[encoded data removed]",
            "text/plain": [
              "<Figure size 432x288 with 1 Axes>"
            ]
          },
          "metadata": {
            "tags": [],
            "needs_background": "light"
          }
        }
      ]
    },
    {
      "cell_type": "markdown",
      "metadata": {
        "id": "o5xG5LoQKvSH",
        "colab_type": "text"
      },
      "source": [
        "## IID Simulation From the Empirical Distribution"
      ]
    },
    {
      "cell_type": "markdown",
      "metadata": {
        "id": "8u0Q8T6MLt1p",
        "colab_type": "text"
      },
      "source": [
        "To set aside the normality assumption, one can consider the dats itself. Here, we are presenting the results for random draw with replacement from the data."
      ]
    },
    {
      "cell_type": "code",
      "metadata": {
        "id": "4xJqBSARj6Jd",
        "colab_type": "code",
        "colab": {
          "base_uri": "https://localhost:8080/",
          "height": 329
        },
        "outputId": "c7c18777-3512-4cad-cd8f-ba7b1d25609c"
      },
      "source": [
        "import random \n",
        "\n",
        "# Draw 100,000 sample with replacement:\n",
        "rvec = np.array(random.choices(sp['Log_Return'].iloc[1:], k = 100000)) #do not select the first NaN# \n",
        "\n",
        "#plt.hist(rvec, bins=500, alpha=1, histtype='stepfilled', color='steelblue', edgecolor='none');\n",
        "plt.hist(rvec, bins=500, alpha=1, histtype='stepfilled', color='steelblue', edgecolor='none');\n",
        "\n",
        "# VaR and ES:\n",
        "VaR = np.round(np.percentile(rvec, 5), 6)\n",
        "ES = np.round(np.mean(rvec[rvec < np.percentile(rvec, 5)]),6)\n",
        "\n",
        "# Mark VaR\n",
        "plt.axvline(x = VaR, linestyle='--', linewidth=1, label=\"VaR\", c='red');\n",
        "plt.xlabel('S&P 500 Returns')\n",
        "plt.ylabel('Probability')\n",
        "plt.title('Probability distribution of S&P 500 returns')\n",
        "\n",
        "print('1-day VaR at 95% confidence level: ' + str(VaR))\n",
        "print('1-day Expected Shortfall at 95% confidence level: ' + str(ES))"
      ],
      "execution_count": null,
      "outputs": [
        {
          "output_type": "stream",
          "text": [
            "1-day VaR at 95% confidence level: -0.016202\n",
            "1-day Expected Shortfall at 95% confidence level: -0.026061\n"
          ],
          "name": "stdout"
        },
        {
          "output_type": "display_data",
          "data": {
            "image/png": "[encoded data removed]",
            "text/plain": [
              "<Figure size 432x288 with 1 Axes>"
            ]
          },
          "metadata": {
            "tags": [],
            "needs_background": "light"
          }
        }
      ]
    },
    {
      "cell_type": "markdown",
      "metadata": {
        "id": "dbLGvU_YqaNI",
        "colab_type": "text"
      },
      "source": [
        "## Examine the Normality Assumption\n",
        "\n",
        "Let us compute higher moments (skewness and kurtosis) and use QQ-plots to examine the normality assumption that we imposed in the previous sections."
      ]
    },
    {
      "cell_type": "code",
      "metadata": {
        "id": "2tDmrfX4peBO",
        "colab_type": "code",
        "colab": {
          "base_uri": "https://localhost:8080/",
          "height": 51
        },
        "outputId": "b6bff156-200e-4628-aa64-5138ff17f198"
      },
      "source": [
        "# Import skew and kurtosis:\n",
        "from scipy.stats import skew, kurtosis  \n",
        "\n",
        "skw = skew(sp['Log_Return'].iloc[1:])\n",
        "krt = kurtosis(sp['Log_Return'].iloc[1:])\n",
        "print('Skewness: ' + str(np.round(skw, 6)))\n",
        "print('Kurtosis: ' + str(np.round(krt, 6)))"
      ],
      "execution_count": null,
      "outputs": [
        {
          "output_type": "stream",
          "text": [
            "Skewness: -1.162985\n",
            "Kurtosis: 27.087823\n"
          ],
          "name": "stdout"
        }
      ]
    },
    {
      "cell_type": "code",
      "metadata": {
        "id": "f_GfDFqmrpWm",
        "colab_type": "code",
        "colab": {
          "base_uri": "https://localhost:8080/",
          "height": 541
        },
        "outputId": "3ba11af3-1e6e-489f-fdf7-3e16972bf41b"
      },
      "source": [
        "# Import QQ-plots:\n",
        "from statsmodels.graphics.gofplots import qqplot\n",
        "qqplot(sp['Log_Return'].iloc[1:], fit=True, line='45')"
      ],
      "execution_count": null,
      "outputs": [
        {
          "output_type": "execute_result",
          "data": {
            "image/png": "[encoded data removed]",
            "text/plain": [
              "<Figure size 432x288 with 1 Axes>"
            ]
          },
          "metadata": {
            "tags": []
          },
          "execution_count": 16
        },
        {
          "output_type": "display_data",
          "data": {
            "image/png": "[encoded data removed]",
            "text/plain": [
              "<Figure size 432x288 with 1 Axes>"
            ]
          },
          "metadata": {
            "tags": [],
            "needs_background": "light"
          }
        }
      ]
    },
    {
      "cell_type": "markdown",
      "metadata": {
        "id": "nG1aqljZQI5Y",
        "colab_type": "text"
      },
      "source": [
        "There is ample evidence against the normality of returns: skewness is negative, kurtosis implies fat tails, and the quantiles do not sit on the 45 degree line "
      ]
    },
    {
      "cell_type": "markdown",
      "metadata": {
        "id": "AybdW5vgQzoh",
        "colab_type": "text"
      },
      "source": [
        "## Simulation from the Estimated Student-t"
      ]
    },
    {
      "cell_type": "code",
      "metadata": {
        "id": "WJTRhgWVsd6R",
        "colab_type": "code",
        "colab": {}
      },
      "source": [
        "# Import stats:\n",
        "from scipy import stats\n",
        "\n",
        "# Estimate degrees of freedom, standard deviation, and the mean, assuming student-t distribution:\n",
        "df, mu_t, sig_t = stats.t.fit(sp['Log_Return'].iloc[1:])"
      ],
      "execution_count": null,
      "outputs": []
    },
    {
      "cell_type": "code",
      "metadata": {
        "id": "RdPqXW4swVdm",
        "colab_type": "code",
        "colab": {}
      },
      "source": [
        "# Define a function to generate student-t data:\n",
        "# Reference: courtesy of John D. Cook https://www.johndcook.com/python_student_t_rng.html \n",
        "\n",
        "import math\n",
        "\n",
        "def student_t_generator(mu_t, sig_t, nu):\n",
        "  random_number = random.gauss(mu_t, sig_t)\n",
        "  x = random.gauss(mu_t, sig_t)\n",
        "  y = 2.0*random.gammavariate(0.5*nu, 2.0)\n",
        "\n",
        "  return x / (math.sqrt(y/nu))"
      ],
      "execution_count": null,
      "outputs": []
    },
    {
      "cell_type": "code",
      "metadata": {
        "id": "N7h9Xx6ryzWy",
        "colab_type": "code",
        "colab": {}
      },
      "source": [
        "# Simulate from student-t 100,000 random returns:\n",
        "dim = 100000\n",
        "sim_t_vec = np.zeros(dim,)\n",
        "\n",
        "for i in range(dim):\n",
        "  gen = student_t_generator(mu_t, sig_t, df)\n",
        "  sim_t_vec[i] = gen"
      ],
      "execution_count": null,
      "outputs": []
    },
    {
      "cell_type": "code",
      "metadata": {
        "id": "oSoBs-LLzcZE",
        "colab_type": "code",
        "colab": {
          "base_uri": "https://localhost:8080/",
          "height": 329
        },
        "outputId": "76216a85-44be-4c84-bf55-5341274dbbf5"
      },
      "source": [
        "# Plot the distribution:\n",
        "plt.hist(sim_t_vec, bins=500, alpha=1, histtype='stepfilled', color='steelblue', edgecolor='none');\n",
        "\n",
        "# VaR and ES:\n",
        "VaR = np.round(np.percentile(sim_t_vec, 5), 6)\n",
        "ES = np.round(np.mean(sim_t_vec[sim_t_vec < np.percentile(sim_t_vec, 5)]),6)\n",
        "\n",
        "# Mark VaR\n",
        "plt.axvline(x = VaR, linestyle='--', linewidth=1, label=\"VaR\", c='red');\n",
        "plt.xlabel('S&P 500 Returns')\n",
        "plt.ylabel('Probability')\n",
        "plt.title('Probability distribution of S&P 500 returns')\n",
        "\n",
        "\n",
        "print('1-day VaR at 95% confidence level: ' + str(VaR))\n",
        "print('1-day Expected Shortfall at 95% confidence level: ' + str(ES))"
      ],
      "execution_count": null,
      "outputs": [
        {
          "output_type": "stream",
          "text": [
            "1-day VaR at 95% confidence level: -0.01055\n",
            "1-day Shortfall at 95% confidence level: -0.017404\n"
          ],
          "name": "stdout"
        },
        {
          "output_type": "display_data",
          "data": {
            "image/png": "[encoded data removed]",
            "text/plain": [
              "<Figure size 432x288 with 1 Axes>"
            ]
          },
          "metadata": {
            "tags": [],
            "needs_background": "light"
          }
        }
      ]
    },
    {
      "cell_type": "markdown",
      "metadata": {
        "id": "brSqu2rdCZqF",
        "colab_type": "text"
      },
      "source": [
        "## Multiple Horizon (10 days) VaR and ES\n",
        "\n",
        "In this section we are going to repeat what we did for multiple horizons. Since we are using log of returns, we can simply add them to get the return of a period that covers the horizon.\n",
        "\n",
        "\n",
        "\n"
      ]
    },
    {
      "cell_type": "code",
      "metadata": {
        "id": "yCdTpQGB73_s",
        "colab_type": "code",
        "colab": {}
      },
      "source": [
        "# Simulate from student-t:\n",
        "\n",
        "# Alpha probability:\n",
        "alpha = 5\n",
        "\n",
        "# Dimension of the vector\n",
        "dim = 100000\n",
        "\n",
        "# Time horizon\n",
        "h = 10\n",
        "\n",
        "sim_t_vec = np.zeros(dim,)\n",
        "\n",
        "for i in range(dim):\n",
        "  sim_t_vec_initial = 0\n",
        "  for j in range(h):\n",
        "    sim_t_vec_initial = sim_t_vec_initial + student_t_generator(mu_t, sig_t, df)\n",
        "    sim_t_vec[i] = sim_t_vec_initial"
      ],
      "execution_count": null,
      "outputs": []
    },
    {
      "cell_type": "code",
      "metadata": {
        "id": "gteUsHA1Hfth",
        "colab_type": "code",
        "colab": {
          "base_uri": "https://localhost:8080/",
          "height": 329
        },
        "outputId": "adf45d4c-79c1-4927-9655-58e66fc54ea8"
      },
      "source": [
        "# Plot\n",
        "plt.hist(sim_t_vec, bins=500, alpha=1, histtype='stepfilled', color='steelblue', edgecolor='none');\n",
        "\n",
        "VaR = np.round(np.percentile(sim_t_vec, alpha), 6)\n",
        "ES = np.round(np.mean(sim_t_vec[sim_t_vec < np.percentile(sim_t_vec, alpha)]),6)\n",
        "\n",
        "# Mark VaR\n",
        "plt.axvline(x = VaR, linestyle='--', linewidth=1, label=\"VaR\", c='red');\n",
        "plt.xlabel('S&P 500 Returns')\n",
        "plt.ylabel('Probability')\n",
        "plt.title('Probability distribution of S&P 500 returns')\n",
        "\n",
        "print('1-day VaR at 95% confidence level: ' + str(VaR))\n",
        "print('1-day Expected Shortfall at 95% confidnce level: ' + str(ES))"
      ],
      "execution_count": null,
      "outputs": [
        {
          "output_type": "stream",
          "text": [
            "1-day VaR at 95% confidence level: -0.034387\n",
            "1-day Expected Shortfall at 95% confidnce level: -0.04972\n"
          ],
          "name": "stdout"
        },
        {
          "output_type": "display_data",
          "data": {
            "image/png": "[encoded data removed]",
            "text/plain": [
              "<Figure size 432x288 with 1 Axes>"
            ]
          },
          "metadata": {
            "tags": [],
            "needs_background": "light"
          }
        }
      ]
    },
    {
      "cell_type": "code",
      "metadata": {
        "id": "-o3MZETlJgen",
        "colab_type": "code",
        "colab": {}
      },
      "source": [
        "# simulate from the empirical distribution with iid draws\n",
        "\n",
        "# Alpha probability:\n",
        "alpha = 5\n",
        "\n",
        "# Dimension of the vector\n",
        "dim = 100000\n",
        "\n",
        "# Time horizon\n",
        "h = 10\n",
        "\n",
        "sim_emp_vec_initial = 0\n",
        "for j in range(h):\n",
        "  sim_emp_vec_initial = sim_emp_vec_initial + np.array(random.choices(sp['Log_Return'].iloc[1:], k = 100000))\n",
        "  sim_emp_vec = sim_emp_vec_initial"
      ],
      "execution_count": null,
      "outputs": []
    },
    {
      "cell_type": "code",
      "metadata": {
        "id": "0mL0GPPZbexo",
        "colab_type": "code",
        "colab": {
          "base_uri": "https://localhost:8080/",
          "height": 329
        },
        "outputId": "eab87ab6-6bb3-4356-e1c1-3c1a07968a4c"
      },
      "source": [
        "plt.hist(sim_emp_vec, bins=500, alpha=1, histtype='stepfilled', color='steelblue', edgecolor='none');\n",
        "\n",
        "# Mark VaR\n",
        "plt.axvline(x = VaR, linestyle='--', linewidth=1, label=\"VaR\", c='red');\n",
        "plt.xlabel('S&P 500 Returns')\n",
        "plt.ylabel('Probability')\n",
        "plt.title('Probability distribution of S&P 500 returns')\n",
        "\n",
        "# VaR and Expected Shortfall:\n",
        "VaR = np.round(np.percentile(sim_emp_vec, alpha), 6)\n",
        "ES = np.round(np.mean(sim_emp_vec[sim_emp_vec < np.percentile(sim_emp_vec, alpha)]),6)\n",
        "\n",
        "print('1-day VaR at 95% confidence level: ' + str(VaR))\n",
        "print('1-day Expected Shortfall at 95% confidnce level: ' + str(ES))"
      ],
      "execution_count": null,
      "outputs": [
        {
          "output_type": "stream",
          "text": [
            "1-day VaR at 95% confidence level: -0.053316\n",
            "1-day Expected Shortfall at 95% confidnce level: -0.075605\n"
          ],
          "name": "stdout"
        },
        {
          "output_type": "display_data",
          "data": {
            "image/png": "[encoded data removed]",
            "text/plain": [
              "<Figure size 432x288 with 1 Axes>"
            ]
          },
          "metadata": {
            "tags": [],
            "needs_background": "light"
          }
        }
      ]
    }
  ]
}